{
 "cells": [
  {
   "cell_type": "code",
   "execution_count": 1,
   "id": "e57845e0-2165-49e6-ade1-a8c39fadfde3",
   "metadata": {
    "colab": {
     "base_uri": "https://localhost:8080/",
     "height": 408
    },
    "id": "e57845e0-2165-49e6-ade1-a8c39fadfde3",
    "outputId": "7182ec24-051b-4237-db5a-9ebe48137200"
   },
   "outputs": [
    {
     "name": "stderr",
     "output_type": "stream",
     "text": [
      "C:\\Users\\diazb\\anaconda3\\lib\\site-packages\\scipy\\__init__.py:138: UserWarning: A NumPy version >=1.16.5 and <1.23.0 is required for this version of SciPy (detected version 1.24.3)\n",
      "  warnings.warn(f\"A NumPy version >={np_minversion} and <{np_maxversion} is required for this version of \"\n"
     ]
    },
    {
     "name": "stdout",
     "output_type": "stream",
     "text": [
      "E:\\Deep Learning\\LVAD Data For Deep Learning\\V1 Models\\LVAD_V1_Neutral Axis\\Ben LVAD V1 Neutral Axis-1000.csv\n",
      "has expected shape (1, 32, 32, 32, 4)\n",
      "\\Neutral Axis-1000-grid saved\n",
      "E:\\Deep Learning\\LVAD Data For Deep Learning\\V1 Models\\LVAD_V1_Neutral Axis\\Ben LVAD V1 Neutral Axis-1050.csv\n",
      "has expected shape (1, 32, 32, 32, 4)\n",
      "\\Neutral Axis-1050-grid saved\n",
      "E:\\Deep Learning\\LVAD Data For Deep Learning\\V1 Models\\LVAD_V1_Neutral Axis\\Ben LVAD V1 Neutral Axis-1100.csv\n",
      "has expected shape (1, 32, 32, 32, 4)\n",
      "\\Neutral Axis-1100-grid saved\n",
      "E:\\Deep Learning\\LVAD Data For Deep Learning\\V1 Models\\LVAD_V1_Neutral Axis\\Ben LVAD V1 Neutral Axis-1150.csv\n",
      "has expected shape (1, 32, 32, 32, 4)\n",
      "\\Neutral Axis-1150-grid saved\n",
      "E:\\Deep Learning\\LVAD Data For Deep Learning\\V1 Models\\LVAD_V1_Neutral Axis\\Ben LVAD V1 Neutral Axis-1200.csv\n",
      "has expected shape (1, 32, 32, 32, 4)\n",
      "\\Neutral Axis-1200-grid saved\n",
      "E:\\Deep Learning\\LVAD Data For Deep Learning\\V1 Models\\LVAD_V1_Neutral Axis\\Ben LVAD V1 Neutral Axis-1250.csv\n",
      "has expected shape (1, 32, 32, 32, 4)\n",
      "\\Neutral Axis-1250-grid saved\n",
      "E:\\Deep Learning\\LVAD Data For Deep Learning\\V1 Models\\LVAD_V1_Neutral Axis\\Ben LVAD V1 Neutral Axis-1300.csv\n",
      "has expected shape (1, 32, 32, 32, 4)\n",
      "\\Neutral Axis-1300-grid saved\n",
      "E:\\Deep Learning\\LVAD Data For Deep Learning\\V1 Models\\LVAD_V1_Neutral Axis\\Ben LVAD V1 Neutral Axis-1350.csv\n",
      "has expected shape (1, 32, 32, 32, 4)\n",
      "\\Neutral Axis-1350-grid saved\n",
      "E:\\Deep Learning\\LVAD Data For Deep Learning\\V1 Models\\LVAD_V1_Neutral Axis\\Ben LVAD V1 Neutral Axis-1400.csv\n",
      "has expected shape (1, 32, 32, 32, 4)\n",
      "\\Neutral Axis-1400-grid saved\n",
      "E:\\Deep Learning\\LVAD Data For Deep Learning\\V1 Models\\LVAD_V1_Neutral Axis\\Ben LVAD V1 Neutral Axis-1450.csv\n",
      "has expected shape (1, 32, 32, 32, 4)\n",
      "\\Neutral Axis-1450-grid saved\n",
      "E:\\Deep Learning\\LVAD Data For Deep Learning\\V1 Models\\LVAD_V1_Neutral Axis\\Ben LVAD V1 Neutral Axis-1500.csv\n",
      "has expected shape (1, 32, 32, 32, 4)\n",
      "\\Neutral Axis-1500-grid saved\n",
      "E:\\Deep Learning\\LVAD Data For Deep Learning\\V1 Models\\LVAD_V1_Neutral Axis\\Ben LVAD V1 Neutral Axis-1550.csv\n",
      "has expected shape (1, 32, 32, 32, 4)\n",
      "\\Neutral Axis-1550-grid saved\n",
      "E:\\Deep Learning\\LVAD Data For Deep Learning\\V1 Models\\LVAD_V1_Neutral Axis\\Ben LVAD V1 Neutral Axis-1600.csv\n",
      "has expected shape (1, 32, 32, 32, 4)\n",
      "\\Neutral Axis-1600-grid saved\n",
      "E:\\Deep Learning\\LVAD Data For Deep Learning\\V1 Models\\LVAD_V1_Neutral Axis\\Ben LVAD V1 Neutral Axis-1650.csv\n",
      "has expected shape (1, 32, 32, 32, 4)\n",
      "\\Neutral Axis-1650-grid saved\n",
      "E:\\Deep Learning\\LVAD Data For Deep Learning\\V1 Models\\LVAD_V1_Neutral Axis\\Ben LVAD V1 Neutral Axis-1700.csv\n",
      "has expected shape (1, 32, 32, 32, 4)\n",
      "\\Neutral Axis-1700-grid saved\n",
      "E:\\Deep Learning\\LVAD Data For Deep Learning\\V1 Models\\LVAD_V1_Neutral Axis\\Ben LVAD V1 Neutral Axis-1750.csv\n",
      "has expected shape (1, 32, 32, 32, 4)\n",
      "\\Neutral Axis-1750-grid saved\n",
      "E:\\Deep Learning\\LVAD Data For Deep Learning\\V1 Models\\LVAD_V1_Neutral Axis\\Ben LVAD V1 Neutral Axis-1800.csv\n",
      "has expected shape (1, 32, 32, 32, 4)\n",
      "\\Neutral Axis-1800-grid saved\n",
      "E:\\Deep Learning\\LVAD Data For Deep Learning\\V1 Models\\LVAD_V1_Neutral Axis\\Ben LVAD V1 Neutral Axis-1850.csv\n",
      "has expected shape (1, 32, 32, 32, 4)\n",
      "\\Neutral Axis-1850-grid saved\n",
      "E:\\Deep Learning\\LVAD Data For Deep Learning\\V1 Models\\LVAD_V1_Neutral Axis\\Ben LVAD V1 Neutral Axis-1900.csv\n",
      "has expected shape (1, 32, 32, 32, 4)\n",
      "\\Neutral Axis-1900-grid saved\n",
      "E:\\Deep Learning\\LVAD Data For Deep Learning\\V1 Models\\LVAD_V1_Neutral Axis\\Ben LVAD V1 Neutral Axis-1950.csv\n",
      "has expected shape (1, 32, 32, 32, 4)\n",
      "\\Neutral Axis-1950-grid saved\n",
      "E:\\Deep Learning\\LVAD Data For Deep Learning\\V1 Models\\LVAD_V1_Neutral Axis\\Ben LVAD V1 Neutral Axis-2000.csv\n"
     ]
    },
    {
     "name": "stderr",
     "output_type": "stream",
     "text": [
      "<ipython-input-1-12fd0db83c05>:33: RuntimeWarning: More than 20 figures have been opened. Figures created through the pyplot interface (`matplotlib.pyplot.figure`) are retained until explicitly closed and may consume too much memory. (To control this warning, see the rcParam `figure.max_open_warning`).\n",
      "  fig = plt.figure(figsize = (50, 20))\n"
     ]
    },
    {
     "name": "stdout",
     "output_type": "stream",
     "text": [
      "has expected shape (1, 32, 32, 32, 4)\n",
      "\\Neutral Axis-2000-grid saved\n",
      "E:\\Deep Learning\\LVAD Data For Deep Learning\\V1 Models\\LVAD_V1_X5\\Ben LVAD V1 X5-1000.csv\n",
      "has expected shape (1, 32, 32, 32, 4)\n",
      "\\X5-1000-grid saved\n",
      "E:\\Deep Learning\\LVAD Data For Deep Learning\\V1 Models\\LVAD_V1_X5\\Ben LVAD V1 X5-1050.csv\n",
      "has expected shape (1, 32, 32, 32, 4)\n",
      "\\X5-1050-grid saved\n",
      "E:\\Deep Learning\\LVAD Data For Deep Learning\\V1 Models\\LVAD_V1_X5\\Ben LVAD V1 X5-1100.csv\n",
      "has expected shape (1, 32, 32, 32, 4)\n",
      "\\X5-1100-grid saved\n",
      "E:\\Deep Learning\\LVAD Data For Deep Learning\\V1 Models\\LVAD_V1_X5\\Ben LVAD V1 X5-1150.csv\n",
      "has expected shape (1, 32, 32, 32, 4)\n",
      "\\X5-1150-grid saved\n",
      "E:\\Deep Learning\\LVAD Data For Deep Learning\\V1 Models\\LVAD_V1_X5\\Ben LVAD V1 X5-1200.csv\n",
      "has expected shape (1, 32, 32, 32, 4)\n",
      "\\X5-1200-grid saved\n",
      "E:\\Deep Learning\\LVAD Data For Deep Learning\\V1 Models\\LVAD_V1_X5\\Ben LVAD V1 X5-1250.csv\n",
      "has expected shape (1, 32, 32, 32, 4)\n",
      "\\X5-1250-grid saved\n",
      "E:\\Deep Learning\\LVAD Data For Deep Learning\\V1 Models\\LVAD_V1_X5\\Ben LVAD V1 X5-1300.csv\n",
      "has expected shape (1, 32, 32, 32, 4)\n",
      "\\X5-1300-grid saved\n",
      "E:\\Deep Learning\\LVAD Data For Deep Learning\\V1 Models\\LVAD_V1_X5\\Ben LVAD V1 X5-1350.csv\n",
      "has expected shape (1, 32, 32, 32, 4)\n",
      "\\X5-1350-grid saved\n",
      "E:\\Deep Learning\\LVAD Data For Deep Learning\\V1 Models\\LVAD_V1_X5\\Ben LVAD V1 X5-1400.csv\n",
      "has expected shape (1, 32, 32, 32, 4)\n",
      "\\X5-1400-grid saved\n",
      "E:\\Deep Learning\\LVAD Data For Deep Learning\\V1 Models\\LVAD_V1_X5\\Ben LVAD V1 X5-1450.csv\n",
      "has expected shape (1, 32, 32, 32, 4)\n",
      "\\X5-1450-grid saved\n",
      "E:\\Deep Learning\\LVAD Data For Deep Learning\\V1 Models\\LVAD_V1_X5\\Ben LVAD V1 X5-1500.csv\n",
      "has expected shape (1, 32, 32, 32, 4)\n",
      "\\X5-1500-grid saved\n",
      "E:\\Deep Learning\\LVAD Data For Deep Learning\\V1 Models\\LVAD_V1_X5\\Ben LVAD V1 X5-1550.csv\n",
      "has expected shape (1, 32, 32, 32, 4)\n",
      "\\X5-1550-grid saved\n",
      "E:\\Deep Learning\\LVAD Data For Deep Learning\\V1 Models\\LVAD_V1_X5\\Ben LVAD V1 X5-1600.csv\n",
      "has expected shape (1, 32, 32, 32, 4)\n",
      "\\X5-1600-grid saved\n",
      "E:\\Deep Learning\\LVAD Data For Deep Learning\\V1 Models\\LVAD_V1_X5\\Ben LVAD V1 X5-1650.csv\n",
      "has expected shape (1, 32, 32, 32, 4)\n",
      "\\X5-1650-grid saved\n",
      "E:\\Deep Learning\\LVAD Data For Deep Learning\\V1 Models\\LVAD_V1_X5\\Ben LVAD V1 X5-1700.csv\n",
      "has expected shape (1, 32, 32, 32, 4)\n",
      "\\X5-1700-grid saved\n",
      "E:\\Deep Learning\\LVAD Data For Deep Learning\\V1 Models\\LVAD_V1_X5\\Ben LVAD V1 X5-1750.csv\n",
      "has expected shape (1, 32, 32, 32, 4)\n",
      "\\X5-1750-grid saved\n",
      "E:\\Deep Learning\\LVAD Data For Deep Learning\\V1 Models\\LVAD_V1_X5\\Ben LVAD V1 X5-1800.csv\n",
      "has expected shape (1, 32, 32, 32, 4)\n",
      "\\X5-1800-grid saved\n",
      "E:\\Deep Learning\\LVAD Data For Deep Learning\\V1 Models\\LVAD_V1_X5\\Ben LVAD V1 X5-1850.csv\n",
      "has expected shape (1, 32, 32, 32, 4)\n",
      "\\X5-1850-grid saved\n",
      "E:\\Deep Learning\\LVAD Data For Deep Learning\\V1 Models\\LVAD_V1_X5\\Ben LVAD V1 X5-1900.csv\n",
      "has expected shape (1, 32, 32, 32, 4)\n",
      "\\X5-1900-grid saved\n",
      "E:\\Deep Learning\\LVAD Data For Deep Learning\\V1 Models\\LVAD_V1_X5\\Ben LVAD V1 X5-1950.csv\n",
      "has expected shape (1, 32, 32, 32, 4)\n",
      "\\X5-1950-grid saved\n",
      "E:\\Deep Learning\\LVAD Data For Deep Learning\\V1 Models\\LVAD_V1_X5\\Ben LVAD V1 X5-2000.csv\n"
     ]
    },
    {
     "ename": "KeyboardInterrupt",
     "evalue": "",
     "output_type": "error",
     "traceback": [
      "\u001b[1;31m---------------------------------------------------------------------------\u001b[0m",
      "\u001b[1;31mKeyboardInterrupt\u001b[0m                         Traceback (most recent call last)",
      "\u001b[1;32m<ipython-input-1-12fd0db83c05>\u001b[0m in \u001b[0;36m<module>\u001b[1;34m\u001b[0m\n\u001b[0;32m     25\u001b[0m             \u001b[0mvz\u001b[0m \u001b[1;33m=\u001b[0m \u001b[0mdf\u001b[0m\u001b[1;33m[\u001b[0m\u001b[1;34m\"z_velocity\"\u001b[0m\u001b[1;33m]\u001b[0m\u001b[1;33m\u001b[0m\u001b[1;33m\u001b[0m\u001b[0m\n\u001b[0;32m     26\u001b[0m \u001b[1;33m\u001b[0m\u001b[0m\n\u001b[1;32m---> 27\u001b[1;33m             \u001b[0mgrid\u001b[0m \u001b[1;33m=\u001b[0m \u001b[0mgriddy\u001b[0m\u001b[1;33m.\u001b[0m\u001b[0mmakeGrid\u001b[0m\u001b[1;33m(\u001b[0m\u001b[0mcoords\u001b[0m\u001b[1;33m,\u001b[0m \u001b[0mvx\u001b[0m\u001b[1;33m,\u001b[0m \u001b[0mvy\u001b[0m\u001b[1;33m,\u001b[0m \u001b[0mvz\u001b[0m\u001b[1;33m)\u001b[0m\u001b[1;33m\u001b[0m\u001b[1;33m\u001b[0m\u001b[0m\n\u001b[0m\u001b[0;32m     28\u001b[0m             \u001b[0mgrid\u001b[0m\u001b[1;33m.\u001b[0m\u001b[0mshape\u001b[0m\u001b[1;33m\u001b[0m\u001b[1;33m\u001b[0m\u001b[0m\n\u001b[0;32m     29\u001b[0m \u001b[1;33m\u001b[0m\u001b[0m\n",
      "\u001b[1;32m~\\Deep Learning\\Project 1\\griddy.py\u001b[0m in \u001b[0;36mmakeGrid\u001b[1;34m(coordinates, vx, vy, vz, xdim, ydim, zdim, centerline_coords, centerline)\u001b[0m\n\u001b[0;32m    227\u001b[0m   \u001b[0mVy\u001b[0m\u001b[1;33m=\u001b[0m\u001b[0mVy\u001b[0m\u001b[1;33m.\u001b[0m\u001b[0mreshape\u001b[0m\u001b[1;33m(\u001b[0m\u001b[1;33m[\u001b[0m\u001b[1;36m1\u001b[0m\u001b[1;33m,\u001b[0m \u001b[0mxdim\u001b[0m\u001b[1;33m,\u001b[0m \u001b[0mydim\u001b[0m\u001b[1;33m,\u001b[0m \u001b[0mzdim\u001b[0m\u001b[1;33m]\u001b[0m\u001b[1;33m)\u001b[0m\u001b[1;33m\u001b[0m\u001b[1;33m\u001b[0m\u001b[0m\n\u001b[0;32m    228\u001b[0m \u001b[1;33m\u001b[0m\u001b[0m\n\u001b[1;32m--> 229\u001b[1;33m   \u001b[0mVz\u001b[0m \u001b[1;33m=\u001b[0m \u001b[0mgd\u001b[0m\u001b[1;33m(\u001b[0m\u001b[1;33m(\u001b[0m\u001b[0mx\u001b[0m\u001b[1;33m,\u001b[0m\u001b[0my\u001b[0m\u001b[1;33m,\u001b[0m\u001b[0mz\u001b[0m\u001b[1;33m)\u001b[0m\u001b[1;33m,\u001b[0m \u001b[0mvz\u001b[0m\u001b[1;33m,\u001b[0m \u001b[1;33m(\u001b[0m\u001b[0mX\u001b[0m\u001b[1;33m,\u001b[0m\u001b[0mY\u001b[0m\u001b[1;33m,\u001b[0m\u001b[0mZ\u001b[0m\u001b[1;33m)\u001b[0m\u001b[1;33m,\u001b[0m \u001b[0mmethod\u001b[0m\u001b[1;33m=\u001b[0m\u001b[1;34m'linear'\u001b[0m\u001b[1;33m,\u001b[0m \u001b[0mfill_value\u001b[0m\u001b[1;33m=\u001b[0m\u001b[0mnp\u001b[0m\u001b[1;33m.\u001b[0m\u001b[0mnan\u001b[0m\u001b[1;33m)\u001b[0m\u001b[1;33m\u001b[0m\u001b[1;33m\u001b[0m\u001b[0m\n\u001b[0m\u001b[0;32m    230\u001b[0m   \u001b[0mVz\u001b[0m\u001b[1;33m[\u001b[0m\u001b[0mnp\u001b[0m\u001b[1;33m.\u001b[0m\u001b[0misnan\u001b[0m\u001b[1;33m(\u001b[0m\u001b[0mVz\u001b[0m\u001b[1;33m)\u001b[0m\u001b[1;33m]\u001b[0m\u001b[1;33m=\u001b[0m\u001b[1;36m0\u001b[0m\u001b[1;33m\u001b[0m\u001b[1;33m\u001b[0m\u001b[0m\n\u001b[0;32m    231\u001b[0m   \u001b[0mVz\u001b[0m\u001b[1;33m=\u001b[0m\u001b[0mVz\u001b[0m\u001b[1;33m.\u001b[0m\u001b[0mreshape\u001b[0m\u001b[1;33m(\u001b[0m\u001b[1;33m[\u001b[0m\u001b[1;36m1\u001b[0m\u001b[1;33m,\u001b[0m \u001b[0mxdim\u001b[0m\u001b[1;33m,\u001b[0m \u001b[0mydim\u001b[0m\u001b[1;33m,\u001b[0m \u001b[0mzdim\u001b[0m\u001b[1;33m]\u001b[0m\u001b[1;33m)\u001b[0m\u001b[1;33m\u001b[0m\u001b[1;33m\u001b[0m\u001b[0m\n",
      "\u001b[1;32m~\\anaconda3\\lib\\site-packages\\scipy\\interpolate\\ndgriddata.py\u001b[0m in \u001b[0;36mgriddata\u001b[1;34m(points, values, xi, method, fill_value, rescale)\u001b[0m\n\u001b[0;32m    258\u001b[0m         \u001b[1;32mreturn\u001b[0m \u001b[0mip\u001b[0m\u001b[1;33m(\u001b[0m\u001b[0mxi\u001b[0m\u001b[1;33m)\u001b[0m\u001b[1;33m\u001b[0m\u001b[1;33m\u001b[0m\u001b[0m\n\u001b[0;32m    259\u001b[0m     \u001b[1;32melif\u001b[0m \u001b[0mmethod\u001b[0m \u001b[1;33m==\u001b[0m \u001b[1;34m'linear'\u001b[0m\u001b[1;33m:\u001b[0m\u001b[1;33m\u001b[0m\u001b[1;33m\u001b[0m\u001b[0m\n\u001b[1;32m--> 260\u001b[1;33m         ip = LinearNDInterpolator(points, values, fill_value=fill_value,\n\u001b[0m\u001b[0;32m    261\u001b[0m                                   rescale=rescale)\n\u001b[0;32m    262\u001b[0m         \u001b[1;32mreturn\u001b[0m \u001b[0mip\u001b[0m\u001b[1;33m(\u001b[0m\u001b[0mxi\u001b[0m\u001b[1;33m)\u001b[0m\u001b[1;33m\u001b[0m\u001b[1;33m\u001b[0m\u001b[0m\n",
      "\u001b[1;32minterpnd.pyx\u001b[0m in \u001b[0;36mscipy.interpolate.interpnd.LinearNDInterpolator.__init__\u001b[1;34m()\u001b[0m\n",
      "\u001b[1;32mqhull.pyx\u001b[0m in \u001b[0;36mscipy.spatial.qhull.Delaunay.__init__\u001b[1;34m()\u001b[0m\n",
      "\u001b[1;32mqhull.pyx\u001b[0m in \u001b[0;36mscipy.spatial.qhull._QhullUser.__init__\u001b[1;34m()\u001b[0m\n",
      "\u001b[1;32mqhull.pyx\u001b[0m in \u001b[0;36mscipy.spatial.qhull.Delaunay._update\u001b[1;34m()\u001b[0m\n",
      "\u001b[1;32mqhull.pyx\u001b[0m in \u001b[0;36mscipy.spatial.qhull._QhullUser._update\u001b[1;34m()\u001b[0m\n",
      "\u001b[1;32m~\\anaconda3\\lib\\site-packages\\numpy\\core\\_methods.py\u001b[0m in \u001b[0;36m_amin\u001b[1;34m(a, axis, out, keepdims, initial, where)\u001b[0m\n\u001b[0;32m     41\u001b[0m     \u001b[1;32mreturn\u001b[0m \u001b[0mumr_maximum\u001b[0m\u001b[1;33m(\u001b[0m\u001b[0ma\u001b[0m\u001b[1;33m,\u001b[0m \u001b[0maxis\u001b[0m\u001b[1;33m,\u001b[0m \u001b[1;32mNone\u001b[0m\u001b[1;33m,\u001b[0m \u001b[0mout\u001b[0m\u001b[1;33m,\u001b[0m \u001b[0mkeepdims\u001b[0m\u001b[1;33m,\u001b[0m \u001b[0minitial\u001b[0m\u001b[1;33m,\u001b[0m \u001b[0mwhere\u001b[0m\u001b[1;33m)\u001b[0m\u001b[1;33m\u001b[0m\u001b[1;33m\u001b[0m\u001b[0m\n\u001b[0;32m     42\u001b[0m \u001b[1;33m\u001b[0m\u001b[0m\n\u001b[1;32m---> 43\u001b[1;33m def _amin(a, axis=None, out=None, keepdims=False,\n\u001b[0m\u001b[0;32m     44\u001b[0m           initial=_NoValue, where=True):\n\u001b[0;32m     45\u001b[0m     \u001b[1;32mreturn\u001b[0m \u001b[0mumr_minimum\u001b[0m\u001b[1;33m(\u001b[0m\u001b[0ma\u001b[0m\u001b[1;33m,\u001b[0m \u001b[0maxis\u001b[0m\u001b[1;33m,\u001b[0m \u001b[1;32mNone\u001b[0m\u001b[1;33m,\u001b[0m \u001b[0mout\u001b[0m\u001b[1;33m,\u001b[0m \u001b[0mkeepdims\u001b[0m\u001b[1;33m,\u001b[0m \u001b[0minitial\u001b[0m\u001b[1;33m,\u001b[0m \u001b[0mwhere\u001b[0m\u001b[1;33m)\u001b[0m\u001b[1;33m\u001b[0m\u001b[1;33m\u001b[0m\u001b[0m\n",
      "\u001b[1;31mKeyboardInterrupt\u001b[0m: "
     ]
    },
    {
     "data": {
      "text/plain": [
       "<Figure size 3600x1440 with 0 Axes>"
      ]
     },
     "metadata": {},
     "output_type": "display_data"
    },
    {
     "data": {
      "text/plain": [
       "<Figure size 3600x1440 with 0 Axes>"
      ]
     },
     "metadata": {},
     "output_type": "display_data"
    },
    {
     "data": {
      "text/plain": [
       "<Figure size 3600x1440 with 0 Axes>"
      ]
     },
     "metadata": {},
     "output_type": "display_data"
    },
    {
     "data": {
      "text/plain": [
       "<Figure size 3600x1440 with 0 Axes>"
      ]
     },
     "metadata": {},
     "output_type": "display_data"
    },
    {
     "data": {
      "text/plain": [
       "<Figure size 3600x1440 with 0 Axes>"
      ]
     },
     "metadata": {},
     "output_type": "display_data"
    },
    {
     "data": {
      "text/plain": [
       "<Figure size 3600x1440 with 0 Axes>"
      ]
     },
     "metadata": {},
     "output_type": "display_data"
    },
    {
     "data": {
      "text/plain": [
       "<Figure size 3600x1440 with 0 Axes>"
      ]
     },
     "metadata": {},
     "output_type": "display_data"
    },
    {
     "data": {
      "text/plain": [
       "<Figure size 3600x1440 with 0 Axes>"
      ]
     },
     "metadata": {},
     "output_type": "display_data"
    },
    {
     "data": {
      "text/plain": [
       "<Figure size 3600x1440 with 0 Axes>"
      ]
     },
     "metadata": {},
     "output_type": "display_data"
    },
    {
     "data": {
      "text/plain": [
       "<Figure size 3600x1440 with 0 Axes>"
      ]
     },
     "metadata": {},
     "output_type": "display_data"
    },
    {
     "data": {
      "text/plain": [
       "<Figure size 3600x1440 with 0 Axes>"
      ]
     },
     "metadata": {},
     "output_type": "display_data"
    },
    {
     "data": {
      "text/plain": [
       "<Figure size 3600x1440 with 0 Axes>"
      ]
     },
     "metadata": {},
     "output_type": "display_data"
    },
    {
     "data": {
      "text/plain": [
       "<Figure size 3600x1440 with 0 Axes>"
      ]
     },
     "metadata": {},
     "output_type": "display_data"
    },
    {
     "data": {
      "text/plain": [
       "<Figure size 3600x1440 with 0 Axes>"
      ]
     },
     "metadata": {},
     "output_type": "display_data"
    },
    {
     "data": {
      "text/plain": [
       "<Figure size 3600x1440 with 0 Axes>"
      ]
     },
     "metadata": {},
     "output_type": "display_data"
    },
    {
     "data": {
      "text/plain": [
       "<Figure size 3600x1440 with 0 Axes>"
      ]
     },
     "metadata": {},
     "output_type": "display_data"
    },
    {
     "data": {
      "text/plain": [
       "<Figure size 3600x1440 with 0 Axes>"
      ]
     },
     "metadata": {},
     "output_type": "display_data"
    },
    {
     "data": {
      "text/plain": [
       "<Figure size 3600x1440 with 0 Axes>"
      ]
     },
     "metadata": {},
     "output_type": "display_data"
    },
    {
     "data": {
      "text/plain": [
       "<Figure size 3600x1440 with 0 Axes>"
      ]
     },
     "metadata": {},
     "output_type": "display_data"
    },
    {
     "data": {
      "text/plain": [
       "<Figure size 3600x1440 with 0 Axes>"
      ]
     },
     "metadata": {},
     "output_type": "display_data"
    },
    {
     "data": {
      "text/plain": [
       "<Figure size 3600x1440 with 0 Axes>"
      ]
     },
     "metadata": {},
     "output_type": "display_data"
    },
    {
     "data": {
      "text/plain": [
       "<Figure size 3600x1440 with 0 Axes>"
      ]
     },
     "metadata": {},
     "output_type": "display_data"
    },
    {
     "data": {
      "text/plain": [
       "<Figure size 3600x1440 with 0 Axes>"
      ]
     },
     "metadata": {},
     "output_type": "display_data"
    },
    {
     "data": {
      "text/plain": [
       "<Figure size 3600x1440 with 0 Axes>"
      ]
     },
     "metadata": {},
     "output_type": "display_data"
    },
    {
     "data": {
      "text/plain": [
       "<Figure size 3600x1440 with 0 Axes>"
      ]
     },
     "metadata": {},
     "output_type": "display_data"
    },
    {
     "data": {
      "text/plain": [
       "<Figure size 3600x1440 with 0 Axes>"
      ]
     },
     "metadata": {},
     "output_type": "display_data"
    },
    {
     "data": {
      "text/plain": [
       "<Figure size 3600x1440 with 0 Axes>"
      ]
     },
     "metadata": {},
     "output_type": "display_data"
    },
    {
     "data": {
      "text/plain": [
       "<Figure size 3600x1440 with 0 Axes>"
      ]
     },
     "metadata": {},
     "output_type": "display_data"
    },
    {
     "data": {
      "text/plain": [
       "<Figure size 3600x1440 with 0 Axes>"
      ]
     },
     "metadata": {},
     "output_type": "display_data"
    },
    {
     "data": {
      "text/plain": [
       "<Figure size 3600x1440 with 0 Axes>"
      ]
     },
     "metadata": {},
     "output_type": "display_data"
    },
    {
     "data": {
      "text/plain": [
       "<Figure size 3600x1440 with 0 Axes>"
      ]
     },
     "metadata": {},
     "output_type": "display_data"
    },
    {
     "data": {
      "text/plain": [
       "<Figure size 3600x1440 with 0 Axes>"
      ]
     },
     "metadata": {},
     "output_type": "display_data"
    },
    {
     "data": {
      "text/plain": [
       "<Figure size 3600x1440 with 0 Axes>"
      ]
     },
     "metadata": {},
     "output_type": "display_data"
    },
    {
     "data": {
      "text/plain": [
       "<Figure size 3600x1440 with 0 Axes>"
      ]
     },
     "metadata": {},
     "output_type": "display_data"
    },
    {
     "data": {
      "text/plain": [
       "<Figure size 3600x1440 with 0 Axes>"
      ]
     },
     "metadata": {},
     "output_type": "display_data"
    },
    {
     "data": {
      "text/plain": [
       "<Figure size 3600x1440 with 0 Axes>"
      ]
     },
     "metadata": {},
     "output_type": "display_data"
    },
    {
     "data": {
      "text/plain": [
       "<Figure size 3600x1440 with 0 Axes>"
      ]
     },
     "metadata": {},
     "output_type": "display_data"
    },
    {
     "data": {
      "text/plain": [
       "<Figure size 3600x1440 with 0 Axes>"
      ]
     },
     "metadata": {},
     "output_type": "display_data"
    },
    {
     "data": {
      "text/plain": [
       "<Figure size 3600x1440 with 0 Axes>"
      ]
     },
     "metadata": {},
     "output_type": "display_data"
    },
    {
     "data": {
      "text/plain": [
       "<Figure size 3600x1440 with 0 Axes>"
      ]
     },
     "metadata": {},
     "output_type": "display_data"
    },
    {
     "data": {
      "text/plain": [
       "<Figure size 3600x1440 with 0 Axes>"
      ]
     },
     "metadata": {},
     "output_type": "display_data"
    }
   ],
   "source": [
    "import pandas as pd\n",
    "import numpy as np\n",
    "import griddy\n",
    "import matplotlib.pyplot as plt\n",
    "import os\n",
    "\n",
    "geometries = ['1']\n",
    "angle = ['Neutral Axis', 'X5', 'X-5', 'X5_Y5', 'X5_Y-5', 'X-5_Y5', 'X-5_Y-5', 'X10', 'X-10', 'Y5', 'Y-5', 'Y10', 'Y-10']\n",
    "\n",
    "for c in range (0,1,1):\n",
    "    for a in range(0,13,1):\n",
    "        for b in range(1000,2050,50):\n",
    "            geometry = geometries[c]\n",
    "            angle_value = angle[a]\n",
    "            filepath = f\"E:\\Deep Learning\\LVAD Data For Deep Learning\\V{geometry} Models\" #Change version number to parse through other folders\n",
    "            model = f\"\\LVAD_V1_{angle_value}\"\n",
    "            modelangles = f\"\\Ben LVAD V{geometry} {angle_value}\" #%(angles(a)) # Change model and angle direction\n",
    "            timestep = \"-%d.csv\" %(b) #determines time step\n",
    "            print(filepath + model + modelangles + timestep)\n",
    "            df = pd.read_csv(filepath + model + modelangles + timestep)\n",
    "            df.head()\n",
    "            coords = df.iloc[:, 1: 4].values\n",
    "            vx = df[\"x_velocity\"]\n",
    "            vy = df[\"y_velocity\"]\n",
    "            vz = df[\"z_velocity\"]\n",
    "\n",
    "            grid = griddy.makeGrid(coords, vx, vy, vz)\n",
    "            grid.shape\n",
    "\n",
    "            sample_grid = grid[0, :, :, :, 3]\n",
    "            x,y,z = sample_grid.nonzero()\n",
    "            color = sample_grid[x, y, z].flatten()\n",
    "            fig = plt.figure(figsize = (50, 20))\n",
    "\n",
    "            angles = [(-60, 60), (45, 45), (0, 0 )]\n",
    "\n",
    "            grid_folder = f\"\\LVAD_V{geometry}_{angle_value}_Gridded_data\" #%(angles(a))\n",
    "            #print(filepath + modelangles + grid_folder)\n",
    "            if not os.path.exists(filepath + modelangles + grid_folder):\n",
    "                os.makedirs(filepath + modelangles + grid_folder)\n",
    "\n",
    "            if grid.shape == (1, 32, 32, 32, 4):\n",
    "                print(f\"has expected shape {grid.shape}\")\n",
    "            else:\n",
    "                print(f\"Unexpected shape {grid.shape}\")\n",
    "            \n",
    "            grid_file_path = filepath + modelangles + grid_folder\n",
    "            grid_file_name = f\"\\{angle_value}-{b}-grid\"\n",
    "            savepath = grid_file_path + grid_file_name\n",
    "            #print(\"saving\", savepath)\n",
    "            np.save(savepath,grid)\n",
    "            print(grid_file_name, \"saved\")"
   ]
  },
  {
   "cell_type": "code",
   "execution_count": null,
   "id": "a470c25d",
   "metadata": {},
   "outputs": [],
   "source": []
  },
  {
   "cell_type": "code",
   "execution_count": null,
   "id": "a66ff88a",
   "metadata": {},
   "outputs": [],
   "source": []
  }
 ],
 "metadata": {
  "accelerator": "GPU",
  "colab": {
   "gpuType": "T4",
   "provenance": []
  },
  "kernelspec": {
   "display_name": "Python 3",
   "language": "python",
   "name": "python3"
  }
 },
 "nbformat": 4,
 "nbformat_minor": 5
}
