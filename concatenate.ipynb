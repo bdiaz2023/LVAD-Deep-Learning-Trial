{
 "cells": [
  {
   "cell_type": "code",
   "execution_count": 26,
   "id": "85efdcec",
   "metadata": {},
   "outputs": [
    {
     "name": "stdout",
     "output_type": "stream",
     "text": [
      "Warning: Grid_concatenated_data.npy has unexpected shape (21, 128, 128, 128)\n",
      "Warning: Neutral Axis-1000-grid.npy has unexpected shape (1, 128, 128, 128, 4)\n",
      "Warning: Neutral Axis-1050-grid.npy has unexpected shape (1, 128, 128, 128, 4)\n",
      "Warning: Neutral Axis-1100-grid.npy has unexpected shape (1, 128, 128, 128, 4)\n",
      "Warning: Neutral Axis-1150-grid.npy has unexpected shape (1, 128, 128, 128, 4)\n",
      "Warning: Neutral Axis-1200-grid.npy has unexpected shape (1, 128, 128, 128, 4)\n",
      "Warning: Neutral Axis-1250-grid.npy has unexpected shape (1, 128, 128, 128, 4)\n",
      "Warning: Neutral Axis-1300-grid.npy has unexpected shape (1, 128, 128, 128, 4)\n",
      "Warning: Neutral Axis-1350-grid.npy has unexpected shape (1, 128, 128, 128, 4)\n",
      "Warning: Neutral Axis-1400-grid.npy has unexpected shape (1, 128, 128, 128, 4)\n",
      "Warning: Neutral Axis-1450-grid.npy has unexpected shape (1, 128, 128, 128, 4)\n",
      "Warning: Neutral Axis-1500-grid.npy has unexpected shape (1, 128, 128, 128, 4)\n",
      "Warning: Neutral Axis-1550-grid.npy has unexpected shape (1, 128, 128, 128, 4)\n",
      "Warning: Neutral Axis-1600-grid.npy has unexpected shape (1, 128, 128, 128, 4)\n",
      "Warning: Neutral Axis-1650-grid.npy has unexpected shape (1, 128, 128, 128, 4)\n",
      "Warning: Neutral Axis-1700-grid.npy has unexpected shape (1, 128, 128, 128, 4)\n",
      "Warning: Neutral Axis-1750-grid.npy has unexpected shape (1, 128, 128, 128, 4)\n",
      "Warning: Neutral Axis-1800-grid.npy has unexpected shape (1, 128, 128, 128, 4)\n",
      "Warning: Neutral Axis-1850-grid.npy has unexpected shape (1, 128, 128, 128, 4)\n",
      "Warning: Neutral Axis-1900-grid.npy has unexpected shape (1, 128, 128, 128, 4)\n",
      "Warning: Neutral Axis-1950-grid.npy has unexpected shape (1, 128, 128, 128, 4)\n",
      "Warning: Neutral Axis-2000-grid.npy has unexpected shape (1, 128, 128, 128, 4)\n",
      "No valid .npy files found.\n",
      "Warning: X5-1000-grid.npy has unexpected shape (1, 128, 128, 128, 4)\n",
      "Warning: X5-1050-grid.npy has unexpected shape (1, 128, 128, 128, 4)\n",
      "Warning: X5-1100-grid.npy has unexpected shape (1, 128, 128, 128, 4)\n",
      "Warning: X5-1150-grid.npy has unexpected shape (1, 128, 128, 128, 4)\n",
      "Warning: X5-1200-grid.npy has unexpected shape (1, 128, 128, 128, 4)\n",
      "Warning: X5-1250-grid.npy has unexpected shape (1, 128, 128, 128, 4)\n",
      "Warning: X5-1300-grid.npy has unexpected shape (1, 128, 128, 128, 4)\n",
      "Warning: X5-1350-grid.npy has unexpected shape (1, 128, 128, 128, 4)\n",
      "Warning: X5-1400-grid.npy has unexpected shape (1, 128, 128, 128, 4)\n",
      "Warning: X5-1450-grid.npy has unexpected shape (1, 128, 128, 128, 4)\n",
      "Warning: X5-1500-grid.npy has unexpected shape (1, 128, 128, 128, 4)\n",
      "Warning: X5-1550-grid.npy has unexpected shape (1, 128, 128, 128, 4)\n",
      "Warning: X5-1600-grid.npy has unexpected shape (1, 128, 128, 128, 4)\n",
      "Warning: X5-1650-grid.npy has unexpected shape (1, 128, 128, 128, 4)\n"
     ]
    },
    {
     "ename": "KeyboardInterrupt",
     "evalue": "",
     "output_type": "error",
     "traceback": [
      "\u001b[1;31m---------------------------------------------------------------------------\u001b[0m",
      "\u001b[1;31mKeyboardInterrupt\u001b[0m                         Traceback (most recent call last)",
      "\u001b[1;32m<ipython-input-26-9f59bf520bee>\u001b[0m in \u001b[0;36m<module>\u001b[1;34m\u001b[0m\n\u001b[0;32m     37\u001b[0m     \u001b[0mdirectory_path\u001b[0m \u001b[1;33m=\u001b[0m \u001b[1;34mf'E:\\Deep Learning\\LVAD Data For Deep Learning\\V1 Models\\Ben LVAD V1 {angle_value}\\LVAD_V1_{angle_value}_Gridded_data\\Grid'\u001b[0m  \u001b[1;31m# Change this to your directory\u001b[0m\u001b[1;33m\u001b[0m\u001b[1;33m\u001b[0m\u001b[0m\n\u001b[0;32m     38\u001b[0m     \u001b[0moutput_file\u001b[0m \u001b[1;33m=\u001b[0m \u001b[1;34mf'{angle_value}_Grid_concatenated_data.npy'\u001b[0m  \u001b[1;31m# Specify the output file name\u001b[0m\u001b[1;33m\u001b[0m\u001b[1;33m\u001b[0m\u001b[0m\n\u001b[1;32m---> 39\u001b[1;33m     \u001b[0mconcatenate_and_save_np_files\u001b[0m\u001b[1;33m(\u001b[0m\u001b[0mdirectory_path\u001b[0m\u001b[1;33m,\u001b[0m \u001b[0moutput_file\u001b[0m\u001b[1;33m)\u001b[0m\u001b[1;33m\u001b[0m\u001b[1;33m\u001b[0m\u001b[0m\n\u001b[0m\u001b[0;32m     40\u001b[0m \u001b[1;33m\u001b[0m\u001b[0m\n",
      "\u001b[1;32m<ipython-input-26-9f59bf520bee>\u001b[0m in \u001b[0;36mconcatenate_and_save_np_files\u001b[1;34m(directory, output_filename)\u001b[0m\n\u001b[0;32m     11\u001b[0m         \u001b[1;32mif\u001b[0m \u001b[0mfilename\u001b[0m\u001b[1;33m.\u001b[0m\u001b[0mendswith\u001b[0m\u001b[1;33m(\u001b[0m\u001b[1;34m'.npy'\u001b[0m\u001b[1;33m)\u001b[0m\u001b[1;33m:\u001b[0m\u001b[1;33m\u001b[0m\u001b[1;33m\u001b[0m\u001b[0m\n\u001b[0;32m     12\u001b[0m             \u001b[0mfilepath\u001b[0m \u001b[1;33m=\u001b[0m \u001b[0mos\u001b[0m\u001b[1;33m.\u001b[0m\u001b[0mpath\u001b[0m\u001b[1;33m.\u001b[0m\u001b[0mjoin\u001b[0m\u001b[1;33m(\u001b[0m\u001b[0mdirectory\u001b[0m\u001b[1;33m,\u001b[0m \u001b[0mfilename\u001b[0m\u001b[1;33m)\u001b[0m\u001b[1;33m\u001b[0m\u001b[1;33m\u001b[0m\u001b[0m\n\u001b[1;32m---> 13\u001b[1;33m             \u001b[0mdata\u001b[0m \u001b[1;33m=\u001b[0m \u001b[0mnp\u001b[0m\u001b[1;33m.\u001b[0m\u001b[0mload\u001b[0m\u001b[1;33m(\u001b[0m\u001b[0mfilepath\u001b[0m\u001b[1;33m)\u001b[0m  \u001b[1;31m# Load the .npy file\u001b[0m\u001b[1;33m\u001b[0m\u001b[1;33m\u001b[0m\u001b[0m\n\u001b[0m\u001b[0;32m     14\u001b[0m \u001b[1;33m\u001b[0m\u001b[0m\n\u001b[0;32m     15\u001b[0m             \u001b[1;31m# Check if the data has the expected shape\u001b[0m\u001b[1;33m\u001b[0m\u001b[1;33m\u001b[0m\u001b[1;33m\u001b[0m\u001b[0m\n",
      "\u001b[1;32m~\\anaconda3\\lib\\site-packages\\numpy\\lib\\npyio.py\u001b[0m in \u001b[0;36mload\u001b[1;34m(file, mmap_mode, allow_pickle, fix_imports, encoding, max_header_size)\u001b[0m\n\u001b[0;32m    430\u001b[0m                                           max_header_size=max_header_size)\n\u001b[0;32m    431\u001b[0m             \u001b[1;32melse\u001b[0m\u001b[1;33m:\u001b[0m\u001b[1;33m\u001b[0m\u001b[1;33m\u001b[0m\u001b[0m\n\u001b[1;32m--> 432\u001b[1;33m                 return format.read_array(fid, allow_pickle=allow_pickle,\n\u001b[0m\u001b[0;32m    433\u001b[0m                                          \u001b[0mpickle_kwargs\u001b[0m\u001b[1;33m=\u001b[0m\u001b[0mpickle_kwargs\u001b[0m\u001b[1;33m,\u001b[0m\u001b[1;33m\u001b[0m\u001b[1;33m\u001b[0m\u001b[0m\n\u001b[0;32m    434\u001b[0m                                          max_header_size=max_header_size)\n",
      "\u001b[1;32m~\\anaconda3\\lib\\site-packages\\numpy\\lib\\format.py\u001b[0m in \u001b[0;36mread_array\u001b[1;34m(fp, allow_pickle, pickle_kwargs, max_header_size)\u001b[0m\n\u001b[0;32m    799\u001b[0m         \u001b[1;32mif\u001b[0m \u001b[0misfileobj\u001b[0m\u001b[1;33m(\u001b[0m\u001b[0mfp\u001b[0m\u001b[1;33m)\u001b[0m\u001b[1;33m:\u001b[0m\u001b[1;33m\u001b[0m\u001b[1;33m\u001b[0m\u001b[0m\n\u001b[0;32m    800\u001b[0m             \u001b[1;31m# We can use the fast fromfile() function.\u001b[0m\u001b[1;33m\u001b[0m\u001b[1;33m\u001b[0m\u001b[1;33m\u001b[0m\u001b[0m\n\u001b[1;32m--> 801\u001b[1;33m             \u001b[0marray\u001b[0m \u001b[1;33m=\u001b[0m \u001b[0mnumpy\u001b[0m\u001b[1;33m.\u001b[0m\u001b[0mfromfile\u001b[0m\u001b[1;33m(\u001b[0m\u001b[0mfp\u001b[0m\u001b[1;33m,\u001b[0m \u001b[0mdtype\u001b[0m\u001b[1;33m=\u001b[0m\u001b[0mdtype\u001b[0m\u001b[1;33m,\u001b[0m \u001b[0mcount\u001b[0m\u001b[1;33m=\u001b[0m\u001b[0mcount\u001b[0m\u001b[1;33m)\u001b[0m\u001b[1;33m\u001b[0m\u001b[1;33m\u001b[0m\u001b[0m\n\u001b[0m\u001b[0;32m    802\u001b[0m         \u001b[1;32melse\u001b[0m\u001b[1;33m:\u001b[0m\u001b[1;33m\u001b[0m\u001b[1;33m\u001b[0m\u001b[0m\n\u001b[0;32m    803\u001b[0m             \u001b[1;31m# This is not a real file. We have to read it the\u001b[0m\u001b[1;33m\u001b[0m\u001b[1;33m\u001b[0m\u001b[1;33m\u001b[0m\u001b[0m\n",
      "\u001b[1;31mKeyboardInterrupt\u001b[0m: "
     ]
    }
   ],
   "source": [
    "import numpy as np\n",
    "import os\n",
    "\n",
    "# Function to load, concatenate, and save .npy files\n",
    "def concatenate_and_save_np_files(directory, output_filename):\n",
    "    # List to hold the segments\n",
    "    segments = []\n",
    "\n",
    "    # Iterate through all .npy files in the specified directory\n",
    "    for filename in os.listdir(directory):\n",
    "        if filename.endswith('.npy'):\n",
    "            filepath = os.path.join(directory, filename)\n",
    "            data = np.load(filepath)  # Load the .npy file\n",
    "            \n",
    "            # Check if the data has the expected shape\n",
    "            if data.shape == (1, 3, 3, 3, 4):\n",
    "                # Extract the first channel (128, 128, 128, 1)\n",
    "                segment = data[..., 0]  # Taking the first channel\n",
    "                segments.append(segment)\n",
    "            else:\n",
    "                print(f\"Warning: {filename} has unexpected shape {data.shape}\")\n",
    "\n",
    "    # Concatenate the segments along the first dimension (axis=0)\n",
    "    if segments:\n",
    "        concatenated_data = np.concatenate(segments, axis=0)  # Concatenate along the first dimension\n",
    "        \n",
    "        # Create the full output path\n",
    "        output_path = os.path.join(directory, output_filename)\n",
    "        np.save(output_path, concatenated_data)  # Save the concatenated data\n",
    "        print(f\"Data saved to {output_path} with shape: {concatenated_data.shape}\")\n",
    "    else:\n",
    "        print(\"No valid .npy files found.\")\n",
    "\n",
    "angle = ['Neutral Axis', 'X5', 'X-5', 'X5_Y5', 'X5_Y-5', 'X-5_Y5', 'X-5_Y-5', 'X10', 'X-10', 'Y5', 'Y-5', 'Y10', 'Y-10']\n",
    "# Example usage\n",
    "for a in range(0,13,1):\n",
    "    angle_value = angle[a]\n",
    "    directory_path = f'E:\\Deep Learning\\LVAD Data For Deep Learning\\V1 Models\\Ben LVAD V1 {angle_value}\\LVAD_V1_{angle_value}_Gridded_data\\Grid'  # Change this to your directory\n",
    "    output_file = f'{angle_value}_Grid_concatenated_data.npy'  # Specify the output file name\n",
    "    concatenate_and_save_np_files(directory_path, output_file)\n",
    "\n"
   ]
  },
  {
   "cell_type": "code",
   "execution_count": 27,
   "id": "d9f708e2",
   "metadata": {},
   "outputs": [
    {
     "name": "stdout",
     "output_type": "stream",
     "text": [
      "Warning: Neutral Axis_Ground_Truth_concatenated_data.npy has unexpected shape (21, 3, 3, 3)\n",
      "Data saved to E:\\Deep Learning\\LVAD Data For Deep Learning\\V1 Models\\Ben LVAD V1 Neutral Axis\\LVAD_V1_Neutral Axis_Gridded_data\\Ground Truth\\Neutral Axis_Ground_Truth_concatenated_data.npy with shape: (21, 3, 3, 3)\n",
      "Data saved to E:\\Deep Learning\\LVAD Data For Deep Learning\\V1 Models\\Ben LVAD V1 X5\\LVAD_V1_X5_Gridded_data\\Ground Truth\\X5_Ground_Truth_concatenated_data.npy with shape: (21, 3, 3, 3)\n",
      "Data saved to E:\\Deep Learning\\LVAD Data For Deep Learning\\V1 Models\\Ben LVAD V1 X-5\\LVAD_V1_X-5_Gridded_data\\Ground Truth\\X-5_Ground_Truth_concatenated_data.npy with shape: (21, 3, 3, 3)\n",
      "Data saved to E:\\Deep Learning\\LVAD Data For Deep Learning\\V1 Models\\Ben LVAD V1 X5_Y5\\LVAD_V1_X5_Y5_Gridded_data\\Ground Truth\\X5_Y5_Ground_Truth_concatenated_data.npy with shape: (21, 3, 3, 3)\n"
     ]
    },
    {
     "ename": "FileNotFoundError",
     "evalue": "[WinError 3] The system cannot find the path specified: 'E:\\\\Deep Learning\\\\LVAD Data For Deep Learning\\\\V1 Models\\\\Ben LVAD V1 X5_Y-5\\\\LVAD_V1_X5_Y-5_Gridded_data\\\\Ground Truth'",
     "output_type": "error",
     "traceback": [
      "\u001b[1;31m---------------------------------------------------------------------------\u001b[0m",
      "\u001b[1;31mFileNotFoundError\u001b[0m                         Traceback (most recent call last)",
      "\u001b[1;32m<ipython-input-27-bcb29ff922d2>\u001b[0m in \u001b[0;36m<module>\u001b[1;34m\u001b[0m\n\u001b[0;32m     37\u001b[0m     \u001b[0mdirectory_path\u001b[0m \u001b[1;33m=\u001b[0m \u001b[1;34mf'E:\\Deep Learning\\LVAD Data For Deep Learning\\V1 Models\\Ben LVAD V1 {angle_value}\\LVAD_V1_{angle_value}_Gridded_data\\Ground Truth'\u001b[0m  \u001b[1;31m# Change this to your directory\u001b[0m\u001b[1;33m\u001b[0m\u001b[1;33m\u001b[0m\u001b[0m\n\u001b[0;32m     38\u001b[0m     \u001b[0moutput_file\u001b[0m \u001b[1;33m=\u001b[0m \u001b[1;34mf'{angle_value}_Ground_Truth_concatenated_data.npy'\u001b[0m  \u001b[1;31m# Specify the output file name\u001b[0m\u001b[1;33m\u001b[0m\u001b[1;33m\u001b[0m\u001b[0m\n\u001b[1;32m---> 39\u001b[1;33m     \u001b[0mconcatenate_and_save_np_files\u001b[0m\u001b[1;33m(\u001b[0m\u001b[0mdirectory_path\u001b[0m\u001b[1;33m,\u001b[0m \u001b[0moutput_file\u001b[0m\u001b[1;33m)\u001b[0m\u001b[1;33m\u001b[0m\u001b[1;33m\u001b[0m\u001b[0m\n\u001b[0m\u001b[0;32m     40\u001b[0m \u001b[1;33m\u001b[0m\u001b[0m\n",
      "\u001b[1;32m<ipython-input-27-bcb29ff922d2>\u001b[0m in \u001b[0;36mconcatenate_and_save_np_files\u001b[1;34m(directory, output_filename)\u001b[0m\n\u001b[0;32m      8\u001b[0m \u001b[1;33m\u001b[0m\u001b[0m\n\u001b[0;32m      9\u001b[0m     \u001b[1;31m# Iterate through all .npy files in the specified directory\u001b[0m\u001b[1;33m\u001b[0m\u001b[1;33m\u001b[0m\u001b[1;33m\u001b[0m\u001b[0m\n\u001b[1;32m---> 10\u001b[1;33m     \u001b[1;32mfor\u001b[0m \u001b[0mfilename\u001b[0m \u001b[1;32min\u001b[0m \u001b[0mos\u001b[0m\u001b[1;33m.\u001b[0m\u001b[0mlistdir\u001b[0m\u001b[1;33m(\u001b[0m\u001b[0mdirectory\u001b[0m\u001b[1;33m)\u001b[0m\u001b[1;33m:\u001b[0m\u001b[1;33m\u001b[0m\u001b[1;33m\u001b[0m\u001b[0m\n\u001b[0m\u001b[0;32m     11\u001b[0m         \u001b[1;32mif\u001b[0m \u001b[0mfilename\u001b[0m\u001b[1;33m.\u001b[0m\u001b[0mendswith\u001b[0m\u001b[1;33m(\u001b[0m\u001b[1;34m'.npy'\u001b[0m\u001b[1;33m)\u001b[0m\u001b[1;33m:\u001b[0m\u001b[1;33m\u001b[0m\u001b[1;33m\u001b[0m\u001b[0m\n\u001b[0;32m     12\u001b[0m             \u001b[0mfilepath\u001b[0m \u001b[1;33m=\u001b[0m \u001b[0mos\u001b[0m\u001b[1;33m.\u001b[0m\u001b[0mpath\u001b[0m\u001b[1;33m.\u001b[0m\u001b[0mjoin\u001b[0m\u001b[1;33m(\u001b[0m\u001b[0mdirectory\u001b[0m\u001b[1;33m,\u001b[0m \u001b[0mfilename\u001b[0m\u001b[1;33m)\u001b[0m\u001b[1;33m\u001b[0m\u001b[1;33m\u001b[0m\u001b[0m\n",
      "\u001b[1;31mFileNotFoundError\u001b[0m: [WinError 3] The system cannot find the path specified: 'E:\\\\Deep Learning\\\\LVAD Data For Deep Learning\\\\V1 Models\\\\Ben LVAD V1 X5_Y-5\\\\LVAD_V1_X5_Y-5_Gridded_data\\\\Ground Truth'"
     ]
    }
   ],
   "source": [
    "import numpy as np\n",
    "import os\n",
    "\n",
    "# Function to load, concatenate, and save .npy files\n",
    "def concatenate_and_save_np_files(directory, output_filename):\n",
    "    # List to hold the segments\n",
    "    segments = []\n",
    "\n",
    "    # Iterate through all .npy files in the specified directory\n",
    "    for filename in os.listdir(directory):\n",
    "        if filename.endswith('.npy'):\n",
    "            filepath = os.path.join(directory, filename)\n",
    "            data = np.load(filepath)  # Load the .npy file\n",
    "            \n",
    "            # Check if the data has the expected shape\n",
    "            if data.shape == (1, 3, 3, 3, 4):\n",
    "                # Extract the first channel (128, 128, 128, 1)\n",
    "                segment = data[..., 0]  # Taking the first channel\n",
    "                segments.append(segment)\n",
    "            else:\n",
    "                print(f\"Warning: {filename} has unexpected shape {data.shape}\")\n",
    "\n",
    "    # Concatenate the segments along the first dimension (axis=0)\n",
    "    if segments:\n",
    "        concatenated_data = np.concatenate(segments, axis=0)  # Concatenate along the first dimension\n",
    "        \n",
    "        # Create the full output path\n",
    "        output_path = os.path.join(directory, output_filename)\n",
    "        np.save(output_path, concatenated_data)  # Save the concatenated data\n",
    "        print(f\"Data saved to {output_path} with shape: {concatenated_data.shape}\")\n",
    "    else:\n",
    "        print(\"No valid .npy files found.\")\n",
    "\n",
    "# Example usage\n",
    "for a in range(0,13,1):\n",
    "    angle_value = angle[a]\n",
    "    directory_path = f'E:\\Deep Learning\\LVAD Data For Deep Learning\\V1 Models\\Ben LVAD V1 {angle_value}\\LVAD_V1_{angle_value}_Gridded_data\\Ground Truth'  # Change this to your directory\n",
    "    output_file = f'{angle_value}_Ground_Truth_concatenated_data.npy'  # Specify the output file name\n",
    "    concatenate_and_save_np_files(directory_path, output_file)\n",
    "\n"
   ]
  }
 ],
 "metadata": {
  "kernelspec": {
   "display_name": "Python 3",
   "language": "python",
   "name": "python3"
  },
  "language_info": {
   "codemirror_mode": {
    "name": "ipython",
    "version": 3
   },
   "file_extension": ".py",
   "mimetype": "text/x-python",
   "name": "python",
   "nbconvert_exporter": "python",
   "pygments_lexer": "ipython3",
   "version": "3.8.8"
  }
 },
 "nbformat": 4,
 "nbformat_minor": 5
}
